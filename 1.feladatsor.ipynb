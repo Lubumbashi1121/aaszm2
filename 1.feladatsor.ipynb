{
 "cells": [
  {
   "cell_type": "markdown",
   "metadata": {},
   "source": [
    "### 1. Feladatsor"
   ]
  },
  {
   "cell_type": "markdown",
   "metadata": {},
   "source": [
    "<b>1.feladat.</b> Írjunk programot, mely a gyakorlaton tanult LAER megolható akkor és csak akkor, ha $r(A)=r(A | b)$ rang tételt ellenőrzi. "
   ]
  },
  {
   "cell_type": "code",
   "execution_count": 15,
   "metadata": {},
   "outputs": [],
   "source": [
    "A=[1 2 6; \n",
    "   4 5 6; \n",
    "   7 8 9];\n",
    "   \n",
    "b=[1 2 3]';"
   ]
  },
  {
   "cell_type": "markdown",
   "metadata": {},
   "source": [
    "<b>2.feladat.</b> Írjunk programot, mely eldönti egy adott mátrixról, hogy a nulla sajátértéke-e vagy sem!"
   ]
  },
  {
   "cell_type": "code",
   "execution_count": 16,
   "metadata": {},
   "outputs": [],
   "source": [
    "A=[1 2 6; \n",
    "   4 5 6;\n",
    "   7 8 9];"
   ]
  },
  {
   "cell_type": "markdown",
   "metadata": {},
   "source": [
    "<b>3.feladat.</b> Írjunk olyan programot, mely a sarokdetermináns tétel alapján eldönti, hogy a mátrix szigourúan pozitív definit-e vagy sem!"
   ]
  },
  {
   "cell_type": "code",
   "execution_count": 17,
   "metadata": {},
   "outputs": [],
   "source": [
    "A=[4 1 0; \n",
    "   1 3 0;\n",
    "  -2 1 7];"
   ]
  },
  {
   "cell_type": "markdown",
   "metadata": {},
   "source": [
    "<b>4.feladat.</b> Írjunk olyan programot, mely eldönti, hogy a mátrix szigorúan diagonálisan domináns-e vagy sem!"
   ]
  },
  {
   "cell_type": "code",
   "execution_count": 18,
   "metadata": {},
   "outputs": [],
   "source": [
    "A=[4 1 0; \n",
    "   1 3 0;\n",
    "  -2 1 7];"
   ]
  },
  {
   "cell_type": "markdown",
   "metadata": {},
   "source": [
    "<b>5.feladat.</b> Írjunk olyan programot, mely eldönti, hogy a mátrix az M-mátrix definícióhoz tartozó előjeleloszlás tulajdonsággal rendelkezik-e vagy sem!"
   ]
  },
  {
   "cell_type": "code",
   "execution_count": 12,
   "metadata": {},
   "outputs": [],
   "source": [
    "A=[ 4 -1  0;\n",
    "   -1  3  0;\n",
    "   -2 -1  7];"
   ]
  }
 ],
 "metadata": {
  "kernelspec": {
   "display_name": "Octave",
   "language": "octave",
   "name": "octave"
  },
  "language_info": {
   "file_extension": ".m",
   "help_links": [
    {
     "text": "GNU Octave",
     "url": "https://www.gnu.org/software/octave/support.html"
    },
    {
     "text": "Octave Kernel",
     "url": "https://github.com/Calysto/octave_kernel"
    },
    {
     "text": "MetaKernel Magics",
     "url": "https://github.com/calysto/metakernel/blob/master/metakernel/magics/README.md"
    }
   ],
   "mimetype": "text/x-octave",
   "name": "octave",
   "version": "4.2.2"
  }
 },
 "nbformat": 4,
 "nbformat_minor": 2
}
